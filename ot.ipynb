{
 "cells": [
  {
   "cell_type": "code",
   "execution_count": null,
   "metadata": {},
   "outputs": [
    {
     "ename": "",
     "evalue": "",
     "output_type": "error",
     "traceback": [
      "\u001b[1;31mCanceled future for execute_request message before replies were done"
     ]
    },
    {
     "ename": "",
     "evalue": "",
     "output_type": "error",
     "traceback": [
      "\u001b[1;31mThe Kernel crashed while executing code in the the current cell or a previous cell. Please review the code in the cell(s) to identify a possible cause of the failure. Click <a href='https://aka.ms/vscodeJupyterKernelCrash'>here</a> for more info. View Jupyter <a href='command:jupyter.viewOutput'>log</a> for further details."
     ]
    }
   ],
   "source": [
    "# 재귀 함수로 팩토리얼 만들기 \n",
    "# 5! = 5 * 4 * 3 * 2 * 1\n",
    "\n",
    "# 반복문 \n",
    "# fact = 1\n",
    "# for i in range(1,6):\n",
    "#     fact = fact * i\n",
    "# print(fact)\n",
    "\n",
    "# 재귀 함수 \n",
    "def fact1(n):\n",
    "    if n <= 1:\n",
    "        return 1\n",
    "    else:\n",
    "        return fact1(n) * fact1(n-1)\n",
    "\n",
    "fact1(5)"
   ]
  },
  {
   "cell_type": "code",
   "execution_count": 3,
   "metadata": {},
   "outputs": [
    {
     "name": "stdout",
     "output_type": "stream",
     "text": [
      "for문 :  120\n",
      "재귀문 :  120\n"
     ]
    }
   ],
   "source": [
    "x = int(input())\n",
    "y = 1\n",
    "for i in range(1 , x + 1):\n",
    "    y = y * i\n",
    "\n",
    "print(\"for문 : \" , y)\n",
    "\n",
    "def fact2(n):\n",
    "    if n == 1:\n",
    "        return 1\n",
    "    else:\n",
    "        return n * fact2(n-1)\n",
    "\n",
    "print(\"재귀문 : \",fact2(x))"
   ]
  },
  {
   "cell_type": "code",
   "execution_count": 11,
   "metadata": {},
   "outputs": [
    {
     "name": "stdout",
     "output_type": "stream",
     "text": [
      "55\n"
     ]
    }
   ],
   "source": [
    "# 재귀 연습 - 피보나치 수열 \n",
    "n = int(input())\n",
    "\n",
    "def fibo(n):\n",
    "    if n <= 1: # 재귀 필수 조건 ( 종료 조건 )\n",
    "        return n # 리턴이 끝내는거 \n",
    "    else:\n",
    "        return fibo(n-1) + fibo(n-2) # 계속 함수 불러오기 \n",
    "\n",
    "\n",
    "print(fibo(n))"
   ]
  },
  {
   "cell_type": "code",
   "execution_count": null,
   "metadata": {},
   "outputs": [],
   "source": [
    "# 자료구조 (git 관리) -> bit연산 정보과학 기초 (교과서) -> c언어 -> 데이터 분석 -> 데이터 베이스 기초 (DB기초) \n",
    "# -> 웹스크랩핑 + 데이터분석( 리얼타임 데이터 분석 )"
   ]
  }
 ],
 "metadata": {
  "kernelspec": {
   "display_name": "base",
   "language": "python",
   "name": "python3"
  },
  "language_info": {
   "codemirror_mode": {
    "name": "ipython",
    "version": 3
   },
   "file_extension": ".py",
   "mimetype": "text/x-python",
   "name": "python",
   "nbconvert_exporter": "python",
   "pygments_lexer": "ipython3",
   "version": "3.9.7"
  },
  "orig_nbformat": 4,
  "vscode": {
   "interpreter": {
    "hash": "e4cce46d6be9934fbd27f9ca0432556941ea5bdf741d4f4d64c6cd7f8dfa8fba"
   }
  }
 },
 "nbformat": 4,
 "nbformat_minor": 2
}
