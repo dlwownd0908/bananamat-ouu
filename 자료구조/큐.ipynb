{
 "cells": [
  {
   "attachments": {},
   "cell_type": "markdown",
   "metadata": {},
   "source": [
    "# 큐"
   ]
  },
  {
   "cell_type": "code",
   "execution_count": 1,
   "metadata": {},
   "outputs": [
    {
     "name": "stdout",
     "output_type": "stream",
     "text": [
      "1 deque([2, 3, 4, 5])\n"
     ]
    }
   ],
   "source": [
    "# 큐 \n",
    "from collections import deque\n",
    "q = deque([1,2,3,4,5])\n",
    "# q.popleft()\n",
    "print(q.popleft() , q)"
   ]
  },
  {
   "cell_type": "code",
   "execution_count": 2,
   "metadata": {},
   "outputs": [
    {
     "name": "stdout",
     "output_type": "stream",
     "text": [
      "1\n",
      "2\n",
      "2\n",
      "0\n",
      "1\n",
      "2\n",
      "-1\n",
      "0\n",
      "1\n",
      "-1\n",
      "0\n",
      "3\n"
     ]
    }
   ],
   "source": [
    "# 18258 큐 2\n",
    "import sys\n",
    "from collections import deque\n",
    "\n",
    "n = int(input())\n",
    "q = deque([])\n",
    "\n",
    "for i in range(n):\n",
    "    ops = list(map(str , sys.stdin.readline().split()))\n",
    "    if ops[0] == \"push\":\n",
    "        q.append(ops[1])\n",
    "    if ops[0] == \"pop\":\n",
    "        if q:\n",
    "            print(q.popleft())\n",
    "        else:\n",
    "            print(-1)\n",
    "    if ops[0] == \"size\":\n",
    "        print(len(q))\n",
    "    if ops[0] == \"empty\":\n",
    "        if q:\n",
    "            print(0)\n",
    "        else:\n",
    "            print(1)\n",
    "    if ops[0] == \"front\":\n",
    "        if q:\n",
    "            print(q[0])\n",
    "        else:\n",
    "            print(-1)\n",
    "    if ops[0] == \"back\":\n",
    "        if q:\n",
    "            print(q[-1])\n",
    "        else:\n",
    "            print(-1)"
   ]
  }
 ],
 "metadata": {
  "kernelspec": {
   "display_name": "base",
   "language": "python",
   "name": "python3"
  },
  "language_info": {
   "codemirror_mode": {
    "name": "ipython",
    "version": 3
   },
   "file_extension": ".py",
   "mimetype": "text/x-python",
   "name": "python",
   "nbconvert_exporter": "python",
   "pygments_lexer": "ipython3",
   "version": "3.9.7"
  },
  "orig_nbformat": 4,
  "vscode": {
   "interpreter": {
    "hash": "e4cce46d6be9934fbd27f9ca0432556941ea5bdf741d4f4d64c6cd7f8dfa8fba"
   }
  }
 },
 "nbformat": 4,
 "nbformat_minor": 2
}
